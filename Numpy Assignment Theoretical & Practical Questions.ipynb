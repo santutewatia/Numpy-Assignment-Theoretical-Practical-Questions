{
 "cells": [
  {
   "cell_type": "code",
   "execution_count": null,
   "id": "03c49444",
   "metadata": {},
   "outputs": [],
   "source": [
    "                          \n",
    "#                             Theoretical Questions:\n",
    "\n",
    "\n",
    "# 1. Explain the purpose and advantages of NumPy in scientific computing and data analysis. How does it\n",
    "# enhance Python's capabilities for numerical operations?\n",
    "\n",
    "\n",
    "# 2. Compare and contrast np.mean() and np.average() functions in NumPy. When would you use one over the\n",
    "# other?\n",
    "\n",
    "\n",
    "# 3. Describe the methods for reversing a NumPy array along different axes. Provide examples for 1D and 2D\n",
    "# arrays.\n",
    "\n",
    "\n",
    "# 4. How can you determine the data type of elements in a NumPy array? Discuss the importance of data types\n",
    "# in memory management and performance.\n",
    "\n",
    "\n",
    "# 5. Define ndarrays in NumPy and explain their key features. How do they differ from standard Python lists?\n",
    "\n",
    "\n",
    "# 6. Analyze the performance benefits of NumPy arrays over Python lists for large-scale numerical operations.\n",
    "\n",
    "\n",
    "# 7. Compare vstack() and hstack() functions in NumPy. Provide examples demonstrating their usage and\n",
    "# output.\n",
    "\n",
    "\n",
    "# 8. Explain the differences between fliplr() and flipud() methods in NumPy, including their effects on various\n",
    "# array dimensions.\n",
    "\n",
    "\n",
    "# 9. Discuss the functionality of the array_split() method in NumPy. How does it handle uneven splits?\n",
    "\n",
    "\n",
    "# 10. Explain the concepts of vectorization and broadcasting in NumPy. How do they contribute to efficient array\n",
    "# operations?"
   ]
  },
  {
   "cell_type": "code",
   "execution_count": null,
   "id": "268be23c",
   "metadata": {},
   "outputs": [],
   "source": [
    "                          \n",
    "                                  # Practical Questions:\n",
    "        \n",
    "        \n",
    "# 1. Create a 3x3 NumPy array with random integers between 1 and 100. Then, interchange its rows and columns.\n",
    "\n",
    "\n",
    "# 2. Generate a 1D NumPy array with 10 elements. Reshape it into a 2x5 array, then into a 5x2 array.\n",
    "\n",
    "\n",
    "# 3. Create a 4x4 NumPy array with random float values. Add a border of zeros around it, resulting in a 6x6 array.\n",
    "\n",
    "\n",
    "# 4. Using NumPy, create an array of integers from 10 to 60 with a step of 5.\n",
    "\n",
    "\n",
    "# 5. Create a NumPy array of strings ['python', 'numpy', 'pandas']. Apply different case transformations\n",
    "# (uppercase, lowercase, title case, etc.) to each element.\n",
    "\n",
    "\n",
    "# 6. Generate a NumPy array of words. Insert a space between each character of every word in the array.\n",
    "\n",
    "\n",
    "# 7. Create two 2D NumPy arrays and perform element-wise addition, subtraction, multiplication, and division.\n",
    "\n",
    "\n",
    "# 8. Use NumPy to create a 5x5 identity matrix, then extract its diagonal elements.\n",
    "\n",
    "\n",
    "# 9. Generate a NumPy array of 100 random integers between 0 and 1000. Find and display all prime numbers in\n",
    "# this array.\n",
    "\n",
    "\n",
    "# 10. Create a NumPy array representing daily temperatures for a month. Calculate and display the weekly\n",
    "# averages."
   ]
  },
  {
   "cell_type": "code",
   "execution_count": null,
   "id": "fdcc49ea",
   "metadata": {},
   "outputs": [],
   "source": [
    "                              \n",
    "                           # Theoretical Questions:\n",
    "    "
   ]
  },
  {
   "cell_type": "code",
   "execution_count": null,
   "id": "d2817e03",
   "metadata": {},
   "outputs": [],
   "source": [
    "#  Ques 1\n",
    "\n",
    "# Explain the purpose and advantages of NumPy in scientific computing and data analysis. How does it enhance Python's capabilities for numerical operations?\n",
    "\n",
    "\n",
    "# Purpose of NumPy in Scientific Computing and Data Analysis\n",
    "\n",
    "# NumPy (Numerical Python) is a fundamental library in Python used for numerical and scientific computing.\n",
    "# Its primary purpose is to provide a powerful N-dimensional array object and functions for efficiently\n",
    "# performing numerical operations on these arrays. In scientific computing and data analysis, \n",
    "# where handling large datasets, performing matrix manipulations, and carrying out complex mathematical\n",
    "# operations is common, NumPy offers the following advantages:\n",
    "\n",
    "# Key Advantages of NumPy:\n",
    "    \n",
    "# Efficient Array Operations:\n",
    "\n",
    "# NumPy introduces the ndarray (N-dimensional array), which allows for efficient storage and manipulation \n",
    "# of large datasets. Unlike Python lists, NumPy arrays are optimized for performance, enabling faster computations.\n",
    "\n",
    "# Vectorization:\n",
    "    \n",
    "# Operations on NumPy arrays are performed element-wise without the need for explicit loops. \n",
    "# This is called vectorization, which makes calculations faster and the code cleaner.\n",
    "\n",
    "\n",
    "# Memory Efficiency:\n",
    "\n",
    "# NumPy arrays are more memory-efficient than Python lists because they store elements of the same \n",
    "# data type in contiguous memory blocks, reducing overhead and improving speed.\n",
    "\n",
    "# Mathematical Functions:\n",
    "\n",
    "# NumPy includes a wide range of mathematical functions like linear algebra, random number generation, \n",
    "# and statistical operations. This eliminates the need for complex and time-consuming implementations.\n",
    "\n",
    "# Support for Multidimensional Arrays (Matrices):\n",
    "\n",
    "# While Python lists are typically one-dimensional, NumPy supports multi-dimensional arrays (e.g., matrices and tensors),\n",
    "# which are commonly used in scientific and machine learning applications.\n",
    "\n",
    "# Broadcasting:\n",
    "\n",
    "# NumPy supports broadcasting, allowing you to perform operations on arrays of different shapes. \n",
    "# This feature simplifies operations and makes them more intuitive.\n"
   ]
  },
  {
   "cell_type": "code",
   "execution_count": null,
   "id": "cd960ce3",
   "metadata": {},
   "outputs": [],
   "source": [
    "# How NumPy Enhances Python’s Capabilities for Numerical Operations:\n",
    "    \n",
    "# Performance:\n",
    "\n",
    "# NumPy is much faster than Python's built-in list for numerical operations because it uses optimized C code under the hood. \n",
    "# It handles large data efficiently and is capable of performing complex computations faster than pure Python code.\n",
    "\n",
    "# Ease of Use:\n",
    "\n",
    "# With NumPy, operations that require manual loops in standard Python can be replaced with single, concise commands. \n",
    "# This simplifies the code and makes it more readable and maintainable.\n",
    "\n",
    "# Handling of Multidimensional Data:\n",
    "\n",
    "# Unlike Python lists, which are limited to 1-dimensional data, NumPy arrays can be easily used to represent and \n",
    "# manipulate multi-dimensional data, such as 2D matrices and higher-dimensional tensors, which are essential in scientific computing.\n",
    "\n",
    "# Numerical Stability and Precision:\n",
    "\n",
    "# NumPy functions are designed to provide accurate and stable results for numerical operations. It also supports a \n",
    "# wide range of data types (integers, floats, etc.), allowing for more precise calculations.\n",
    "\n",
    "# Efficient Mathematical Computations:\n",
    "\n",
    "# NumPy’s extensive library of mathematical functions makes it easy to perform tasks such as matrix multiplication,\n",
    "# Fourier transforms, and linear algebra operations, all of which are critical in scientific computing and data analysis."
   ]
  },
  {
   "cell_type": "code",
   "execution_count": null,
   "id": "1a2e318b",
   "metadata": {},
   "outputs": [],
   "source": [
    "# Ques 2 \n",
    "\n",
    "# Compare and contrast np.mean() and np.average() functions in NumPy. When would you use one over the\n",
    "# other?\n",
    "\n",
    "# Both np.mean() and np.average() are functions in NumPy that are used to calculate the average value of elements in an array, but they have some key differences in how they work, particularly when dealing with weights.\n",
    "\n",
    "# 1. np.mean():\n",
    "\n",
    "# Purpose: It calculates the arithmetic mean (or simple average) of the array elements.\n",
    "\n",
    "# Usage: np.mean() is used when you want to compute the average of the values without considering any weights.\n",
    "\n",
    "# Parameters:\n",
    "\n",
    "# array: Input array or sequence.\n",
    "\n",
    "# axis: (Optional) Specifies the axis along which to compute the mean. If not specified, it computes the mean of all elements.\n",
    "\n",
    "# dtype: (Optional) Determines the type of the output (e.g., integer or float).\n",
    "\n",
    "# keepdims: (Optional) If set to True, the result will retain the dimensions of the input array.\n"
   ]
  },
  {
   "cell_type": "code",
   "execution_count": null,
   "id": "3ffa760f",
   "metadata": {},
   "outputs": [],
   "source": [
    "# 2. np.average():\n",
    "\n",
    "# Purpose: It calculates the weighted average of array elements. If no weights are provided, it defaults to calculating the same result as np.mean().\n",
    "\n",
    "# Usage: np.average() is used when you want to take into account the weights of each element. You can assign a higher weight to certain elements to reflect their importance in the calculation.\n",
    "\n",
    "# Parameters:\n",
    "\n",
    "# array: Input array or sequence.\n",
    "\n",
    "# weights: (Optional) An array of the same shape as the input, containing the weights associated with each element.\n",
    "\n",
    "# axis: (Optional) Specifies the axis along which to compute the average. If not specified, it computes the average of all elements.\n",
    "\n",
    "# returned: (Optional) If set to True, the function will return a tuple containing the average and the sum of the weights."
   ]
  },
  {
   "cell_type": "code",
   "execution_count": null,
   "id": "04ecb343",
   "metadata": {},
   "outputs": [],
   "source": [
    "# When to Use Each:\n",
    "\n",
    "# Use np.mean():\n",
    "\n",
    "# When you want a simple, unweighted average of elements.\n",
    "# When all data points should have equal importance in your computation.\n",
    "\n",
    "# Use np.average():\n",
    "\n",
    "# When the data points have different levels of importance and you need to assign weights.\n",
    "# In scenarios like statistical models, financial calculations, or any application where certain data points contribute more than others."
   ]
  },
  {
   "cell_type": "code",
   "execution_count": null,
   "id": "0a9658a1",
   "metadata": {},
   "outputs": [],
   "source": [
    "# Ques 3\n",
    "\n",
    "# Describe the methods for reversing a NumPy array along different axes. Provide examples for 1D and 2D\n",
    "# arrays.\n",
    "\n",
    "# In NumPy, there are several methods to reverse an array along different axes, whether it's a 1D array or a 2D array. Below are some of the key methods you can use, with examples for both 1D and 2D arrays.\n",
    "\n",
    "# Methods for Reversing a NumPy Array:\n",
    "\n",
    "# 1. Using Slicing ([::-1]):\n",
    "\n",
    "# This is the simplest and most common method for reversing arrays in NumPy. You can reverse an array along a given axis by using Python’s slicing technique (start:stop:step) where a step of -1 reverses the elements.\n",
    "\n",
    "# For 1D Arrays:"
   ]
  },
  {
   "cell_type": "code",
   "execution_count": 1,
   "id": "41544446",
   "metadata": {},
   "outputs": [
    {
     "name": "stdout",
     "output_type": "stream",
     "text": [
      "[5 4 3 2 1]\n"
     ]
    }
   ],
   "source": [
    "import numpy as np\n",
    "\n",
    "arr_1d = np.array([1, 2, 3, 4, 5])\n",
    "reversed_1d = arr_1d[::-1]\n",
    "print(reversed_1d)  # Output: [5 4 3 2 1]\n"
   ]
  },
  {
   "cell_type": "code",
   "execution_count": 2,
   "id": "5aa824f3",
   "metadata": {},
   "outputs": [
    {
     "name": "stdout",
     "output_type": "stream",
     "text": [
      "[[7 8 9]\n",
      " [4 5 6]\n",
      " [1 2 3]]\n"
     ]
    }
   ],
   "source": [
    "# For 2D Arrays (Row-wise or Column-wise):\n",
    "\n",
    "# To reverse along rows:\n",
    "    \n",
    "arr_2d = np.array([[1, 2, 3], [4, 5, 6], [7, 8, 9]])\n",
    "reversed_rows = arr_2d[::-1, :]  # Reverses the rows\n",
    "print(reversed_rows)\n",
    "# Output:\n",
    "# [[7 8 9]\n",
    "#  [4 5 6]\n",
    "#  [1 2 3]]\n"
   ]
  },
  {
   "cell_type": "code",
   "execution_count": 4,
   "id": "e3fcbb85",
   "metadata": {},
   "outputs": [
    {
     "name": "stdout",
     "output_type": "stream",
     "text": [
      "[[3 2 1]\n",
      " [6 5 4]\n",
      " [9 8 7]]\n"
     ]
    }
   ],
   "source": [
    "# To reverse along columns:\n",
    "reversed_columns = arr_2d[:, ::-1]  # Reverses the columns\n",
    "print(reversed_columns)\n",
    "# Output:\n",
    "# [[3 2 1]\n",
    "#  [6 5 4]\n",
    "#  [9 8 7]]\n"
   ]
  },
  {
   "cell_type": "code",
   "execution_count": null,
   "id": "dc6b965b",
   "metadata": {},
   "outputs": [],
   "source": [
    "# Summary of Methods:\n",
    "\n",
    "#  Method\t         Reverses\t                         Description \n",
    " \n",
    "# [::-1]   \t     Array along any axis\t             Uses Python slicing to reverse along an axis.\n",
    "# np.flip()        Array along specified axis\t         General method to flip array along specified axis\n",
    "# np.fliplr()\t     2D array along columns\t             Shorthand for flipping left-right (columns).\n",
    "# np.flipud()\t     2D array along rows\t             Shorthand for flipping up-down (rows).\n",
    "# np.transpose()   Swaps axes, combined with slicing\t Allows swapping of axes and reversing.\n"
   ]
  },
  {
   "cell_type": "code",
   "execution_count": null,
   "id": "678e18cc",
   "metadata": {},
   "outputs": [],
   "source": [
    "# Ques 4 \n",
    "\n",
    "# How can you determine the data type of elements in a NumPy array? Discuss the importance of data types\n",
    "# in memory management and performance.\n",
    "\n",
    "# Determining the Data Type of Elements in a NumPy Array\n",
    "\n",
    "# In NumPy, you can determine the data type of the elements in an array using the dtype attribute.\n",
    "# The dtype (data type) tells you what type of elements the array contains, such as integers (int), \n",
    "# floating-point numbers (float), booleans (bool), etc.\n",
    "\n",
    "# Importance of Data Types in Memory Management and Performance\n",
    "\n",
    "# Memory Efficiency:\n",
    "\n",
    "# NumPy arrays are more memory-efficient compared to Python lists because they store elements of the same data type. The choice of data type impacts how much memory each element occupies.\n",
    "# For example, int8 uses 1 byte per element, while int64 uses 8 bytes. By carefully selecting the appropriate data type (e.g., int32 instead of int64 if the range of numbers is smaller), you can save a lot of memory when dealing with large datasets.\n",
    "\n",
    "# Performance:\n",
    "\n",
    "# NumPy operations are highly optimized, and the data type (dtype) of an array affects the performance of numerical computations.\n",
    "\n",
    "# For example, operations on arrays of float32 or int32 types are generally faster than those on float64 or int64 because smaller data types require less processing power and memory bandwidth."
   ]
  },
  {
   "cell_type": "code",
   "execution_count": null,
   "id": "0edfa97b",
   "metadata": {},
   "outputs": [],
   "source": [
    "# Ques 5\n",
    "\n",
    "# Define ndarrays in NumPy and explain their key features. How do they differ from standard Python lists?\n",
    "\n",
    "\n",
    "# Definition of ndarray in NumPy\n",
    "\n",
    "# An ndarray (N-dimensional array) is the fundamental data structure in NumPy, used for storing homogeneous, multidimensional data. It is a grid of values, all of the same data type, and indexed by a tuple of non-negative integers. The number of dimensions is called the array's rank, and the shape is the tuple of integers representing the size along each dimension.\n",
    "\n",
    "# Key Features of ndarray:\n",
    "\n",
    "# Homogeneous Elements:\n",
    "\n",
    "# All elements in an ndarray must be of the same data type (e.g., all integers or all floats), which allows for optimized memory usage and faster computation.\n",
    "\n",
    "# Multidimensional:\n",
    "\n",
    "# ndarray supports arrays of any number of dimensions (1D, 2D, 3D, and higher). For example, a 1D array is a list of numbers, while a 2D array is a matrix, and 3D arrays can represent tensors.\n",
    "\n",
    "# Efficient Memory Usage:\n",
    "\n",
    "# NumPy arrays are stored in contiguous blocks of memory, unlike Python lists, which are arrays of pointers to objects. This improves memory access speed and efficiency.\n",
    "\n",
    "# Vectorized Operations:\n",
    "\n",
    "# Operations on ndarray objects are performed element-wise and are vectorized, meaning you can apply mathematical operations to entire arrays without writing explicit loops.\n"
   ]
  },
  {
   "cell_type": "code",
   "execution_count": null,
   "id": "8620812d",
   "metadata": {},
   "outputs": [],
   "source": [
    "# Differences Between ndarray and Python Lists\n",
    "# Homogeneity:\n",
    "\n",
    "# ndarray: All elements must be of the same data type (e.g., all integers or all floats).\n",
    "# Python List: Can contain elements of different data types (e.g., integers, floats, strings).\n",
    "\n",
    "# Multidimensional Support:\n",
    "\n",
    "# ndarray: Supports multiple dimensions (1D, 2D, 3D, etc.).\n",
    "# Python List: Lists are typically one-dimensional, though you can create lists of lists to simulate multidimensional arrays, but they are less efficient.\n",
    "\n",
    "# Memory Efficiency:\n",
    "\n",
    "# ndarray: Uses contiguous memory blocks for efficient data storage and access, leading to better performance with large datasets.\n",
    "# Python List: Stores references to objects, leading to higher memory overhead and slower access times for large data structures.\n",
    "\n",
    "# Vectorized Operations:\n",
    "\n",
    "# ndarray: Supports vectorized operations, where mathematical operations can be applied to entire arrays at once.\n",
    "# Python List: Requires loops for element-wise operations; doesn't support native vectorization.\n",
    "\n",
    "# Performance:\n",
    "\n",
    "# ndarray: Highly optimized for numerical computations, making it much faster for large datasets or mathematical operations.\n",
    "# Python List: Slower for numerical computations due to its flexibility and lack of optimization for homogeneous data."
   ]
  },
  {
   "cell_type": "code",
   "execution_count": null,
   "id": "1ad00376",
   "metadata": {},
   "outputs": [],
   "source": [
    "# Ques 6\n",
    "\n",
    "# Analyze the performance benefits of NumPy arrays over Python lists for large-scale numerical operations.\n",
    "\n",
    "# Performance Benefits of NumPy Arrays Over Python Lists for Large-Scale Numerical Operations\n",
    "# When it comes to large-scale numerical operations, NumPy arrays (ndarray) offer significant advantages over standard Python lists in terms of memory efficiency, speed, and functionality. Here’s a breakdown of these benefits:"
   ]
  },
  {
   "cell_type": "code",
   "execution_count": null,
   "id": "b557f530",
   "metadata": {},
   "outputs": [],
   "source": [
    "# NumPy arrays provide significant performance benefits over Python lists when dealing with large-scale numerical operations, thanks to:\n",
    "\n",
    "# 1 Memory efficiency through homogeneous data types and contiguous memory blocks.\n",
    "\n",
    "# 2 Faster execution due to vectorized operations, broadcasting, and optimized mathematical functions.\n",
    "\n",
    "# 3 Advanced support for multidimensional arrays and numerical operations like matrix multiplication.\n",
    "\n",
    "# 4 Parallel processing capabilities that make operations on large datasets even faster.\n",
    "\n",
    "# 5 Efficient slicing and indexing for easy manipulation of large arrays.\n",
    "\n",
    "# When dealing with large datasets or heavy numerical computations, NumPy arrays are the preferred choice for speed and memory optimization."
   ]
  },
  {
   "cell_type": "code",
   "execution_count": null,
   "id": "8627e104",
   "metadata": {},
   "outputs": [],
   "source": [
    "# Ques 7\n",
    "\n",
    "# Compare vstack() and hstack() functions in NumPy. Provide examples demonstrating their usage and\n",
    "# output.\n",
    "\n",
    "\n",
    "# In NumPy, vstack() and hstack() are two functions used for stacking arrays along different axes. Let's compare them and see how they work with examples.\n",
    "\n",
    "# 1. vstack() – Vertical Stacking\n",
    "\n",
    "# vstack() stacks arrays vertically, i.e., along rows (axis=0).\n",
    "# It combines multiple arrays into a single array by stacking them one on top of the other.\n",
    "# Arrays must have the same number of columns for vstack() to work.\n",
    "\n",
    "\n",
    "# Example:\n"
   ]
  },
  {
   "cell_type": "code",
   "execution_count": 1,
   "id": "a9eaa5fc",
   "metadata": {},
   "outputs": [
    {
     "name": "stdout",
     "output_type": "stream",
     "text": [
      "[[1 2 3]\n",
      " [4 5 6]]\n"
     ]
    }
   ],
   "source": [
    "import numpy as np\n",
    "\n",
    "# Create two 1D arrays\n",
    "arr1 = np.array([1, 2, 3])\n",
    "arr2 = np.array([4, 5, 6])\n",
    "\n",
    "# Stack them vertically\n",
    "result = np.vstack((arr1, arr2))\n",
    "\n",
    "print(result)\n"
   ]
  },
  {
   "cell_type": "code",
   "execution_count": null,
   "id": "e061c209",
   "metadata": {},
   "outputs": [],
   "source": [
    "# 2. hstack() – Horizontal Stacking\n",
    "\n",
    "# hstack() stacks arrays horizontally, i.e., along columns (axis=1).\n",
    "\n",
    "# It combines multiple arrays side by side, stacking them one after the other horizontally.\n",
    "\n",
    "# Arrays must have the same number of rows for hstack() to work.\n",
    "\n",
    "# Example"
   ]
  },
  {
   "cell_type": "code",
   "execution_count": 2,
   "id": "14eb7ef1",
   "metadata": {},
   "outputs": [
    {
     "name": "stdout",
     "output_type": "stream",
     "text": [
      "[1 2 3 4 5 6]\n"
     ]
    }
   ],
   "source": [
    "# Create two 1D arrays\n",
    "arr1 = np.array([1, 2, 3])\n",
    "arr2 = np.array([4, 5, 6])\n",
    "\n",
    "# Stack them horizontally\n",
    "result = np.hstack((arr1, arr2))\n",
    "\n",
    "print(result)\n"
   ]
  },
  {
   "cell_type": "code",
   "execution_count": null,
   "id": "8142f4b2",
   "metadata": {},
   "outputs": [],
   "source": [
    "# Summary:\n",
    "    \n",
    "# Use vstack() when you want to combine arrays vertically (one on top of another).\n",
    "\n",
    "# Use hstack() when you want to combine arrays horizontally (side by side)."
   ]
  },
  {
   "cell_type": "code",
   "execution_count": null,
   "id": "8433b2ad",
   "metadata": {},
   "outputs": [],
   "source": [
    "# Ques 8\n",
    "\n",
    "# Explain the differences between fliplr() and flipud() methods in NumPy, including their effects on various\n",
    "# array dimensions.\n",
    "\n",
    "\n",
    "# In NumPy, fliplr() and flipud() are two functions that allow you to flip or reverse the elements of an array along different axes. Here’s a breakdown of their differences and how they affect arrays of various dimensions.\n",
    "\n",
    "# 1. fliplr() – Flip Left to Right\n",
    "\n",
    "# fliplr() flips the array horizontally, i.e., from left to right.\n",
    "# It is only applicable to arrays with 2 or more dimensions (i.e., it works on the last axis, axis=1).\n",
    "# It reverses the order of elements in each row while keeping the rows in their original order.\n",
    "\n",
    "# Example:"
   ]
  },
  {
   "cell_type": "code",
   "execution_count": 3,
   "id": "0ecd0de3",
   "metadata": {},
   "outputs": [
    {
     "name": "stdout",
     "output_type": "stream",
     "text": [
      "[[3 2 1]\n",
      " [6 5 4]\n",
      " [9 8 7]]\n"
     ]
    }
   ],
   "source": [
    "import numpy as np\n",
    "\n",
    "# Create a 2D array\n",
    "arr = np.array([[1, 2, 3],\n",
    "                [4, 5, 6],\n",
    "                [7, 8, 9]])\n",
    "\n",
    "# Flip the array left to right\n",
    "result = np.fliplr(arr)\n",
    "\n",
    "print(result)\n"
   ]
  },
  {
   "cell_type": "code",
   "execution_count": null,
   "id": "422ced73",
   "metadata": {},
   "outputs": [],
   "source": [
    "# 2. flipud() – Flip Up to Down\n",
    "\n",
    "# flipud() flips the array vertically, i.e., from up to down.\n",
    "\n",
    "# It reverses the order of the rows but keeps the columns in the original order.\n",
    "\n",
    "# Unlike fliplr(), flipud() can be applied to both 1D and 2D arrays, as it works along axis=0.\n",
    "\n",
    "# Example with a 2D array:"
   ]
  },
  {
   "cell_type": "code",
   "execution_count": 4,
   "id": "fa98ceca",
   "metadata": {},
   "outputs": [
    {
     "name": "stdout",
     "output_type": "stream",
     "text": [
      "[[7 8 9]\n",
      " [4 5 6]\n",
      " [1 2 3]]\n"
     ]
    }
   ],
   "source": [
    "# Create a 2D array\n",
    "arr = np.array([[1, 2, 3],\n",
    "                [4, 5, 6],\n",
    "                [7, 8, 9]])\n",
    "\n",
    "# Flip the array up to down\n",
    "result = np.flipud(arr)\n",
    "\n",
    "print(result)\n"
   ]
  },
  {
   "cell_type": "code",
   "execution_count": null,
   "id": "9a7556dc",
   "metadata": {},
   "outputs": [],
   "source": [
    "# Summary:\n",
    "    \n",
    "# fliplr() flips the array horizontally, reversing the order of elements in each row.\n",
    "# flipud() flips the array vertically, reversing the order of the rows.\n",
    "# flipud() can handle 1D arrays, while fliplr() requires at least a 2D array."
   ]
  },
  {
   "cell_type": "code",
   "execution_count": null,
   "id": "9d66b4e8",
   "metadata": {},
   "outputs": [],
   "source": [
    "# Ques 9\n",
    "\n",
    "# Discuss the functionality of the array_split() method in NumPy. How does it handle uneven splits?\n",
    "\n",
    "# The array_split() method in NumPy is used to split an array into multiple sub-arrays. It is quite similar to the split() function but with the added flexibility of handling uneven splits.\n",
    "\n",
    "# Key Features of array_split():\n",
    "    \n",
    "# Basic Functionality: It splits an array into n sub-arrays along a specified axis.\n",
    "# Uneven Splits: If the array cannot be divided evenly into the desired number of sub-arrays, array_split() ensures that the resulting sub-arrays are of unequal size, with the first sub-arrays being slightly larger."
   ]
  },
  {
   "cell_type": "code",
   "execution_count": null,
   "id": "f854c3d5",
   "metadata": {},
   "outputs": [],
   "source": [
    "# Syntax:\n",
    "numpy.array_split(ary, indices_or_sections, axis=0)\n",
    "\n",
    "# ary: The input array you want to split.\n",
    "# indices_or_sections: The number of sub-arrays or the indices at which to split the array.\n",
    "# axis: The axis along which to split the array (default is axis=0, i.e., row-wise for 2D arrays)."
   ]
  },
  {
   "cell_type": "code",
   "execution_count": null,
   "id": "58ae1462",
   "metadata": {},
   "outputs": [],
   "source": [
    "# Handling Uneven Splits:\n",
    "\n",
    "# When the array cannot be evenly divided into sub-arrays, array_split() allocates extra elements to some of the sub-arrays. Specifically:\n",
    "\n",
    "# The first few sub-arrays will contain one extra element, while the remaining ones will have fewer elements.\n",
    "# This ensures that all the data in the array is still represented, even when the split is uneven."
   ]
  },
  {
   "cell_type": "code",
   "execution_count": 6,
   "id": "6418c43d",
   "metadata": {},
   "outputs": [
    {
     "name": "stdout",
     "output_type": "stream",
     "text": [
      "[array([1, 2]), array([3, 4]), array([5, 6])]\n"
     ]
    }
   ],
   "source": [
    "# Example 1: Even Split\n",
    "\n",
    "import numpy as np\n",
    "\n",
    "arr = np.array([1, 2, 3, 4, 5, 6])\n",
    "\n",
    "# Split the array into 3 equal parts\n",
    "result = np.array_split(arr, 3)\n",
    "\n",
    "print(result)\n"
   ]
  },
  {
   "cell_type": "code",
   "execution_count": 7,
   "id": "ee6a9704",
   "metadata": {},
   "outputs": [
    {
     "name": "stdout",
     "output_type": "stream",
     "text": [
      "[array([1, 2]), array([3, 4]), array([5])]\n"
     ]
    }
   ],
   "source": [
    "# Example 2: Uneven Split\n",
    "\n",
    "arr = np.array([1, 2, 3, 4, 5])\n",
    "\n",
    "# Split the array into 3 parts (uneven)\n",
    "result = np.array_split(arr, 3)\n",
    "\n",
    "print(result)\n"
   ]
  },
  {
   "cell_type": "code",
   "execution_count": null,
   "id": "4aa1e7b3",
   "metadata": {},
   "outputs": [],
   "source": [
    "# Ques 10\n",
    "\n",
    "# Explain the concepts of vectorization and broadcasting in NumPy. How do they contribute to efficient array\n",
    "# operations?\n",
    "\n",
    "\n",
    "# Vectorization and broadcasting are two core concepts in NumPy that enable efficient and optimized array\n",
    "# operations. They play a crucial role in making computations faster by leveraging low-level optimizations \n",
    "# without needing explicit Python loops.\n",
    "\n",
    "# 1. Vectorization in NumPy\n",
    "\n",
    "# Vectorization refers to the ability to perform operations on entire arrays (or vectors) at once, \n",
    "# without writing explicit loops. It allows you to apply arithmetic or mathematical operations \n",
    "# element-wise on entire arrays in one go.\n",
    "\n",
    "# Key Benefits:\n",
    "\n",
    "# Performance: Vectorized operations are much faster than equivalent operations using explicit loops in Python. \n",
    "# This is because NumPy’s vectorized functions are implemented in C and take advantage of optimized,\n",
    "# low-level operations.\n",
    "\n",
    "# Cleaner Code: Vectorization removes the need for manually writing loops, leading to more readable \n",
    "# and concise code.\n",
    "\n",
    "# Example of Vectorization:\n",
    "    \n",
    "# Instead of looping through elements one by one, you can perform operations directly on arrays."
   ]
  },
  {
   "cell_type": "code",
   "execution_count": 8,
   "id": "01e0e265",
   "metadata": {},
   "outputs": [
    {
     "name": "stdout",
     "output_type": "stream",
     "text": [
      "[5 7 9]\n"
     ]
    }
   ],
   "source": [
    "import numpy as np\n",
    "\n",
    "# Two arrays\n",
    "a = np.array([1, 2, 3])\n",
    "b = np.array([4, 5, 6])\n",
    "\n",
    "# Vectorized addition\n",
    "result = a + b  # Element-wise addition\n",
    "\n",
    "print(result)\n"
   ]
  },
  {
   "cell_type": "code",
   "execution_count": null,
   "id": "40efea0a",
   "metadata": {},
   "outputs": [],
   "source": [
    "# 2. Broadcasting in NumPy\n",
    "\n",
    "# Broadcasting is a mechanism that allows NumPy to perform element-wise operations on arrays with different shapes, without making copies of the data. It stretches the smaller array across the larger one, as if it were of the same shape, but without creating unnecessary memory overhead.\n",
    "\n",
    "# Rules for Broadcasting:\n",
    "\n",
    "# If two arrays have different dimensions, NumPy pads the smaller array’s shape with ones (on the left) until both arrays have the same number of dimensions.\n",
    "# If the sizes of the dimensions of the two arrays match or one of the dimensions is 1, the arrays are compatible and broadcasting can occur.\n",
    "# If any dimension sizes differ and none of them is 1, broadcasting cannot happen, and an error is raised.\n",
    "\n",
    "# Example of Broadcasting:"
   ]
  },
  {
   "cell_type": "code",
   "execution_count": 9,
   "id": "c3176b72",
   "metadata": {},
   "outputs": [
    {
     "name": "stdout",
     "output_type": "stream",
     "text": [
      "[2 4 6]\n"
     ]
    }
   ],
   "source": [
    "import numpy as np\n",
    "\n",
    "# Array of shape (3,)\n",
    "a = np.array([1, 2, 3])\n",
    "\n",
    "# Scalar (0D array)\n",
    "b = 2\n",
    "\n",
    "# Broadcasting the scalar over the array\n",
    "result = a * b  # Multiplies each element of `a` by `b`\n",
    "\n",
    "print(result)\n"
   ]
  },
  {
   "cell_type": "code",
   "execution_count": null,
   "id": "e91cbd29",
   "metadata": {},
   "outputs": [],
   "source": [
    "# Summary: How Vectorization and Broadcasting Contribute to Efficient Array Operations\n",
    "    \n",
    "# Vectorization speeds up numerical computations by eliminating explicit loops and performing operations on entire arrays at once, leveraging highly optimized C code.\n",
    "\n",
    "# Broadcasting allows NumPy to efficiently handle arrays of different shapes in element-wise operations without creating unnecessary intermediate arrays or loops.\n",
    "\n",
    "# Both of these features contribute to making NumPy an efficient tool for numerical computing and large-scale data analysis. They allow operations to be performed faster and with less memory overhead compared to traditional Python loops.\n"
   ]
  },
  {
   "cell_type": "code",
   "execution_count": null,
   "id": "4e9b599c",
   "metadata": {},
   "outputs": [],
   "source": [
    "\n",
    "                             # Practical Questions:\n",
    "                                 "
   ]
  },
  {
   "cell_type": "code",
   "execution_count": 10,
   "id": "87f8f9f0",
   "metadata": {},
   "outputs": [
    {
     "name": "stdout",
     "output_type": "stream",
     "text": [
      "Original array:\n",
      "[[49  9 78]\n",
      " [16 14 35]\n",
      " [95 52  6]]\n",
      "Interchanged array:\n",
      "[[49 16 95]\n",
      " [ 9 14 52]\n",
      " [78 35  6]]\n"
     ]
    }
   ],
   "source": [
    "# Ques 1\n",
    "\n",
    "# Create a 3x3 NumPy array with random integers between 1 and 100. Then, interchange its rows and columns.\n",
    "\n",
    "\n",
    "import numpy as np\n",
    "\n",
    "# Create a 3x3 NumPy array with random integers between 1 and 100\n",
    "array = np.random.randint(1, 101, (3, 3))\n",
    "\n",
    "print(\"Original array:\")\n",
    "print(array)\n",
    "\n",
    "# Interchange rows and columns\n",
    "interchanged_array = array.T\n",
    "\n",
    "print(\"Interchanged array:\")\n",
    "print(interchanged_array)"
   ]
  },
  {
   "cell_type": "code",
   "execution_count": 16,
   "id": "85aaf312",
   "metadata": {},
   "outputs": [
    {
     "data": {
      "text/plain": [
       "(array([0, 1, 2, 3, 4, 5, 6, 7, 8, 9]),\n",
       " array([[0, 1, 2, 3, 4],\n",
       "        [5, 6, 7, 8, 9]]),\n",
       " array([[0, 1],\n",
       "        [2, 3],\n",
       "        [4, 5],\n",
       "        [6, 7],\n",
       "        [8, 9]]))"
      ]
     },
     "execution_count": 16,
     "metadata": {},
     "output_type": "execute_result"
    }
   ],
   "source": [
    "# Ques 2\n",
    "\n",
    "# Generate a 1D NumPy array with 10 elements. Reshape it into a 2x5 array, then into a 5x2 array.\n",
    "\n",
    "# Generate a 1D NumPy array with 10 elements\n",
    "array_1d = np.arange(10)\n",
    "\n",
    "# Reshape it into a 2x5 array\n",
    "array_2x5 = array_1d.reshape(2, 5)\n",
    "\n",
    "# Reshape it into a 5x2 array\n",
    "array_5x2 = array_2x5.reshape(5, 2)\n",
    "\n",
    "array_1d, array_2x5, array_5x2"
   ]
  },
  {
   "cell_type": "code",
   "execution_count": 19,
   "id": "e1e82020",
   "metadata": {},
   "outputs": [
    {
     "data": {
      "text/plain": [
       "(array([[5.98120318e-01, 4.75896165e-01, 9.38948684e-01, 9.08148542e-01],\n",
       "        [5.52350886e-04, 2.47691313e-01, 9.46759656e-01, 7.26734989e-01],\n",
       "        [9.78850349e-01, 9.02692562e-02, 7.20221734e-01, 6.87028584e-01],\n",
       "        [6.27934196e-01, 8.09669758e-01, 8.61982884e-01, 2.31997494e-01]]),\n",
       " array([[0.00000000e+00, 0.00000000e+00, 0.00000000e+00, 0.00000000e+00,\n",
       "         0.00000000e+00, 0.00000000e+00],\n",
       "        [0.00000000e+00, 5.98120318e-01, 4.75896165e-01, 9.38948684e-01,\n",
       "         9.08148542e-01, 0.00000000e+00],\n",
       "        [0.00000000e+00, 5.52350886e-04, 2.47691313e-01, 9.46759656e-01,\n",
       "         7.26734989e-01, 0.00000000e+00],\n",
       "        [0.00000000e+00, 9.78850349e-01, 9.02692562e-02, 7.20221734e-01,\n",
       "         6.87028584e-01, 0.00000000e+00],\n",
       "        [0.00000000e+00, 6.27934196e-01, 8.09669758e-01, 8.61982884e-01,\n",
       "         2.31997494e-01, 0.00000000e+00],\n",
       "        [0.00000000e+00, 0.00000000e+00, 0.00000000e+00, 0.00000000e+00,\n",
       "         0.00000000e+00, 0.00000000e+00]]))"
      ]
     },
     "execution_count": 19,
     "metadata": {},
     "output_type": "execute_result"
    }
   ],
   "source": [
    "# Ques 3\n",
    "\n",
    "# Create a 4x4 NumPy array with random float values. Add a border of zeros around it, resulting in a 6x6 array.\n",
    "\n",
    "# Creating a 4x4 NumPy array with random float values\n",
    "array_4x4 = np.random.rand(4, 4)\n",
    "\n",
    "# Adding a border of zeros around it to make it a 6x6 array\n",
    "array_6x6 = np.pad(array_4x4, pad_width=1, mode='constant', constant_values=0)\n",
    "\n",
    "array_4x4, array_6x6\n"
   ]
  },
  {
   "cell_type": "code",
   "execution_count": 21,
   "id": "7caa3caa",
   "metadata": {},
   "outputs": [
    {
     "data": {
      "text/plain": [
       "array([10, 15, 20, 25, 30, 35, 40, 45, 50, 55, 60])"
      ]
     },
     "execution_count": 21,
     "metadata": {},
     "output_type": "execute_result"
    }
   ],
   "source": [
    "# Ques 4\n",
    "\n",
    "# Using NumPy, create an array of integers from 10 to 60 with a step of 5.\n",
    "\n",
    "# Creating an array of integers from 10 to 60 with a step of 5\n",
    "array_integers = np.arange(10, 61, 5)\n",
    "array_integers\n"
   ]
  },
  {
   "cell_type": "code",
   "execution_count": 22,
   "id": "18dd9d16",
   "metadata": {},
   "outputs": [
    {
     "data": {
      "text/plain": [
       "(array(['PYTHON', 'NUMPY', 'PANDAS'], dtype='<U6'),\n",
       " array(['python', 'numpy', 'pandas'], dtype='<U6'),\n",
       " array(['Python', 'Numpy', 'Pandas'], dtype='<U6'),\n",
       " array(['Python', 'Numpy', 'Pandas'], dtype='<U6'))"
      ]
     },
     "execution_count": 22,
     "metadata": {},
     "output_type": "execute_result"
    }
   ],
   "source": [
    "# Ques 5\n",
    "\n",
    "# Create a NumPy array of strings ['python', 'numpy', 'pandas']. Apply different case transformations\n",
    "# (uppercase, lowercase, title case, etc.) to each element.\n",
    "\n",
    "# Creating a NumPy array of strings\n",
    "string_array = np.array(['python', 'numpy', 'pandas'])\n",
    "\n",
    "# Applying different case transformations\n",
    "uppercase_array = np.char.upper(string_array)  # Uppercase\n",
    "lowercase_array = np.char.lower(string_array)  # Lowercase\n",
    "titlecase_array = np.char.title(string_array)   # Title case\n",
    "capitalize_array = np.char.capitalize(string_array)  # Capitalize\n",
    "\n",
    "uppercase_array, lowercase_array, titlecase_array, capitalize_array\n"
   ]
  },
  {
   "cell_type": "code",
   "execution_count": 23,
   "id": "17bb8ad8",
   "metadata": {},
   "outputs": [
    {
     "data": {
      "text/plain": [
       "array(['h e l l o', 'w o r l d', 'n u m p y', 'p y t h o n'], dtype='<U11')"
      ]
     },
     "execution_count": 23,
     "metadata": {},
     "output_type": "execute_result"
    }
   ],
   "source": [
    "# Ques 6\n",
    "\n",
    "# Generate a NumPy array of words. Insert a space between each character of every word in the array.\n",
    "\n",
    "# Creating a NumPy array of words\n",
    "words_array = np.array(['hello', 'world', 'numpy', 'python'])\n",
    "\n",
    "# Inserting a space between each character of every word\n",
    "spaced_words_array = np.char.join(' ', words_array)\n",
    "\n",
    "spaced_words_array\n"
   ]
  },
  {
   "cell_type": "code",
   "execution_count": 24,
   "id": "84078402",
   "metadata": {},
   "outputs": [
    {
     "data": {
      "text/plain": [
       "(array([[ 8, 10, 12],\n",
       "        [14, 16, 18]]),\n",
       " array([[-6, -6, -6],\n",
       "        [-6, -6, -6]]),\n",
       " array([[ 7, 16, 27],\n",
       "        [40, 55, 72]]),\n",
       " array([[0.14285714, 0.25      , 0.33333333],\n",
       "        [0.4       , 0.45454545, 0.5       ]]))"
      ]
     },
     "execution_count": 24,
     "metadata": {},
     "output_type": "execute_result"
    }
   ],
   "source": [
    "# Ques 7 \n",
    "\n",
    "# Create two 2D NumPy arrays and perform element-wise addition, subtraction, multiplication, and division.\n",
    "\n",
    "# Creating two 2D NumPy arrays\n",
    "array_1 = np.array([[1, 2, 3], [4, 5, 6]])\n",
    "array_2 = np.array([[7, 8, 9], [10, 11, 12]])\n",
    "\n",
    "# Performing element-wise addition\n",
    "addition_result = array_1 + array_2\n",
    "\n",
    "# Performing element-wise subtraction\n",
    "subtraction_result = array_1 - array_2\n",
    "\n",
    "# Performing element-wise multiplication\n",
    "multiplication_result = array_1 * array_2\n",
    "\n",
    "# Performing element-wise division\n",
    "division_result = array_1 / array_2\n",
    "\n",
    "addition_result, subtraction_result, multiplication_result, division_result\n"
   ]
  },
  {
   "cell_type": "code",
   "execution_count": 26,
   "id": "d48ce389",
   "metadata": {},
   "outputs": [
    {
     "data": {
      "text/plain": [
       "(array([[1., 0., 0., 0., 0.],\n",
       "        [0., 1., 0., 0., 0.],\n",
       "        [0., 0., 1., 0., 0.],\n",
       "        [0., 0., 0., 1., 0.],\n",
       "        [0., 0., 0., 0., 1.]]),\n",
       " array([1., 1., 1., 1., 1.]))"
      ]
     },
     "execution_count": 26,
     "metadata": {},
     "output_type": "execute_result"
    }
   ],
   "source": [
    "# Ques 8\n",
    "\n",
    "# Use NumPy to create a 5x5 identity matrix, then extract its diagonal elements.\n",
    "\n",
    "# Creating a 5x5 identity matrix\n",
    "identity_matrix = np.eye(5)\n",
    "\n",
    "# Extracting the diagonal elements\n",
    "diagonal_elements = np.diagonal(identity_matrix)\n",
    "\n",
    "identity_matrix, diagonal_elements\n"
   ]
  },
  {
   "cell_type": "code",
   "execution_count": 33,
   "id": "a769a699",
   "metadata": {},
   "outputs": [
    {
     "name": "stdout",
     "output_type": "stream",
     "text": [
      "Random Array: [724 552  78 915 338 578 599 260 195 182 242 805 564 195 786 971 783 216\n",
      " 891 662 172 692 266 348 536 303 369 572 962 294 619 313 128 174 950 174\n",
      " 276  51 509 201 444 918 282 861 690 903 135 864 284 675  95 458 630  26\n",
      " 380 668 110 819  37 451 937 557 757 904 165 113 303 905 748 317 974  71\n",
      " 102 823 156 832 570 570 540 839 708 792 360 659 898 626 890 677 958 653\n",
      " 328 874 519 455 108 401 760 301 909 629]\n",
      "Prime numbers in the array:\n",
      "[599, 971, 619, 313, 509, 37, 937, 557, 757, 113, 317, 71, 823, 839, 659, 677, 653, 401]\n"
     ]
    }
   ],
   "source": [
    "# Ques 9\n",
    "\n",
    "# Generate a NumPy array of 100 random integers between 0 and 1000. Find and display all prime numbers in\n",
    "# this array.\n",
    "\n",
    "import numpy as np\n",
    "\n",
    "def is_prime(num):\n",
    "    \"\"\"Checks if a number is prime.\"\"\"\n",
    "    if num <= 1:\n",
    "        return False\n",
    "    if num <= 3:\n",
    "        return True\n",
    "    if num % 2 == 0 or num % 3 == 0:\n",
    "        return False\n",
    "    i = 5\n",
    "    while i * i <= num:\n",
    "        if num % i == 0 or num % (i + 2) == 0:\n",
    "            return False\n",
    "        i += 6\n",
    "    return True\n",
    "\n",
    "# Generate a NumPy array of 100 random integers between 0 and 1000\n",
    "random_array = np.random.randint(0, 1001, 100)\n",
    "\n",
    "# Find prime numbers in the array\n",
    "prime_numbers = [num for num in random_array if is_prime(num)]\n",
    "\n",
    "# Display the generated random array and the prime numbers\n",
    "print(\"Random Array:\", random_array)\n",
    "print(\"Prime numbers in the array:\")\n",
    "print(prime_numbers)\n"
   ]
  },
  {
   "cell_type": "code",
   "execution_count": 36,
   "id": "11d8090d",
   "metadata": {},
   "outputs": [
    {
     "name": "stdout",
     "output_type": "stream",
     "text": [
      "Daily Temperatures for the Month:\n",
      "[31 21 35 24 34 32 33 27 29 22 28 22 24 26 20 23 20 35 22 35 21 27 25 26\n",
      " 32 24 22 23 31 20]\n",
      "\n",
      "Weekly Averages:\n",
      "Week 1: 30.00°C\n",
      "Week 2: 25.43°C\n",
      "Week 3: 25.14°C\n",
      "Week 4: 25.57°C\n"
     ]
    }
   ],
   "source": [
    "# Ques 10\n",
    "\n",
    "# Create a NumPy array representing daily temperatures for a month. Calculate and display the weekly\n",
    "# averages.\n",
    "\n",
    "import numpy as np\n",
    "\n",
    "# Generate a NumPy array representing daily temperatures for 30 days (for a month)\n",
    "# Here, we will use random temperatures between 20 and 35 degrees Celsius\n",
    "daily_temperatures = np.random.randint(20, 36, size=30)\n",
    "\n",
    "# Print the daily temperatures for reference\n",
    "print(\"Daily Temperatures for the Month:\")\n",
    "print(daily_temperatures)\n",
    "\n",
    "# Calculate the weekly averages\n",
    "# Reshape the daily temperatures into a 4-week format (4 rows for 4 weeks and 7 columns for days)\n",
    "# We take the first 28 days to fit into 4 weeks (4*7 = 28)\n",
    "weekly_temperatures = daily_temperatures[:28].reshape(4, 7)\n",
    "\n",
    "# Calculate the average for each week\n",
    "weekly_averages = np.mean(weekly_temperatures, axis=1)\n",
    "\n",
    "# Display the weekly averages\n",
    "print(\"\\nWeekly Averages:\")\n",
    "for week_number, average in enumerate(weekly_averages, start=1):\n",
    "    print(f\"Week {week_number}: {average:.2f}°C\")\n"
   ]
  },
  {
   "cell_type": "code",
   "execution_count": null,
   "id": "dce4c4be",
   "metadata": {},
   "outputs": [],
   "source": []
  },
  {
   "cell_type": "code",
   "execution_count": null,
   "id": "6f9ffcff",
   "metadata": {},
   "outputs": [],
   "source": []
  }
 ],
 "metadata": {
  "kernelspec": {
   "display_name": "Python 3 (ipykernel)",
   "language": "python",
   "name": "python3"
  },
  "language_info": {
   "codemirror_mode": {
    "name": "ipython",
    "version": 3
   },
   "file_extension": ".py",
   "mimetype": "text/x-python",
   "name": "python",
   "nbconvert_exporter": "python",
   "pygments_lexer": "ipython3",
   "version": "3.11.5"
  }
 },
 "nbformat": 4,
 "nbformat_minor": 5
}
